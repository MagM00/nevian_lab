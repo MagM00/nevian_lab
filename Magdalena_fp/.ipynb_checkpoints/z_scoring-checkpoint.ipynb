{
 "cells": [
  {
   "cell_type": "code",
   "execution_count": 3,
   "id": "19f1ebf3-cb3b-4a17-8629-72763cbbf2d1",
   "metadata": {},
   "outputs": [
    {
     "ename": "ModuleNotFoundError",
     "evalue": "No module named 'numpy._core'",
     "output_type": "error",
     "traceback": [
      "\u001b[1;31m---------------------------------------------------------------------------\u001b[0m",
      "\u001b[1;31mModuleNotFoundError\u001b[0m                       Traceback (most recent call last)",
      "Cell \u001b[1;32mIn[3], line 48\u001b[0m\n\u001b[0;32m     45\u001b[0m \u001b[38;5;28;01mif\u001b[39;00m filename\u001b[38;5;241m.\u001b[39mendswith(\u001b[38;5;124m'\u001b[39m\u001b[38;5;124m.npy\u001b[39m\u001b[38;5;124m'\u001b[39m):\n\u001b[0;32m     46\u001b[0m     \u001b[38;5;66;03m# Load the data\u001b[39;00m\n\u001b[0;32m     47\u001b[0m     file_path \u001b[38;5;241m=\u001b[39m os\u001b[38;5;241m.\u001b[39mpath\u001b[38;5;241m.\u001b[39mjoin(root, filename)\n\u001b[1;32m---> 48\u001b[0m     data \u001b[38;5;241m=\u001b[39m np\u001b[38;5;241m.\u001b[39mload(file_path, allow_pickle\u001b[38;5;241m=\u001b[39m\u001b[38;5;28;01mTrue\u001b[39;00m)\u001b[38;5;241m.\u001b[39mitem()\n\u001b[0;32m     50\u001b[0m     \u001b[38;5;66;03m# Get all trial types from the data\u001b[39;00m\n\u001b[0;32m     51\u001b[0m     trial_types \u001b[38;5;241m=\u001b[39m \u001b[38;5;28mlist\u001b[39m(data\u001b[38;5;241m.\u001b[39mkeys())\n",
      "File \u001b[1;32m~\\AppData\\Local\\anaconda3\\Lib\\site-packages\\numpy\\lib\\npyio.py:432\u001b[0m, in \u001b[0;36mload\u001b[1;34m(file, mmap_mode, allow_pickle, fix_imports, encoding, max_header_size)\u001b[0m\n\u001b[0;32m    429\u001b[0m         \u001b[38;5;28;01mreturn\u001b[39;00m \u001b[38;5;28mformat\u001b[39m\u001b[38;5;241m.\u001b[39mopen_memmap(file, mode\u001b[38;5;241m=\u001b[39mmmap_mode,\n\u001b[0;32m    430\u001b[0m                                   max_header_size\u001b[38;5;241m=\u001b[39mmax_header_size)\n\u001b[0;32m    431\u001b[0m     \u001b[38;5;28;01melse\u001b[39;00m:\n\u001b[1;32m--> 432\u001b[0m         \u001b[38;5;28;01mreturn\u001b[39;00m \u001b[38;5;28mformat\u001b[39m\u001b[38;5;241m.\u001b[39mread_array(fid, allow_pickle\u001b[38;5;241m=\u001b[39mallow_pickle,\n\u001b[0;32m    433\u001b[0m                                  pickle_kwargs\u001b[38;5;241m=\u001b[39mpickle_kwargs,\n\u001b[0;32m    434\u001b[0m                                  max_header_size\u001b[38;5;241m=\u001b[39mmax_header_size)\n\u001b[0;32m    435\u001b[0m \u001b[38;5;28;01melse\u001b[39;00m:\n\u001b[0;32m    436\u001b[0m     \u001b[38;5;66;03m# Try a pickle\u001b[39;00m\n\u001b[0;32m    437\u001b[0m     \u001b[38;5;28;01mif\u001b[39;00m \u001b[38;5;129;01mnot\u001b[39;00m allow_pickle:\n",
      "File \u001b[1;32m~\\AppData\\Local\\anaconda3\\Lib\\site-packages\\numpy\\lib\\format.py:792\u001b[0m, in \u001b[0;36mread_array\u001b[1;34m(fp, allow_pickle, pickle_kwargs, max_header_size)\u001b[0m\n\u001b[0;32m    790\u001b[0m     pickle_kwargs \u001b[38;5;241m=\u001b[39m {}\n\u001b[0;32m    791\u001b[0m \u001b[38;5;28;01mtry\u001b[39;00m:\n\u001b[1;32m--> 792\u001b[0m     array \u001b[38;5;241m=\u001b[39m pickle\u001b[38;5;241m.\u001b[39mload(fp, \u001b[38;5;241m*\u001b[39m\u001b[38;5;241m*\u001b[39mpickle_kwargs)\n\u001b[0;32m    793\u001b[0m \u001b[38;5;28;01mexcept\u001b[39;00m \u001b[38;5;167;01mUnicodeError\u001b[39;00m \u001b[38;5;28;01mas\u001b[39;00m err:\n\u001b[0;32m    794\u001b[0m     \u001b[38;5;66;03m# Friendlier error message\u001b[39;00m\n\u001b[0;32m    795\u001b[0m     \u001b[38;5;28;01mraise\u001b[39;00m \u001b[38;5;167;01mUnicodeError\u001b[39;00m(\u001b[38;5;124m\"\u001b[39m\u001b[38;5;124mUnpickling a python object failed: \u001b[39m\u001b[38;5;132;01m%r\u001b[39;00m\u001b[38;5;130;01m\\n\u001b[39;00m\u001b[38;5;124m\"\u001b[39m\n\u001b[0;32m    796\u001b[0m                        \u001b[38;5;124m\"\u001b[39m\u001b[38;5;124mYou may need to pass the encoding= option \u001b[39m\u001b[38;5;124m\"\u001b[39m\n\u001b[0;32m    797\u001b[0m                        \u001b[38;5;124m\"\u001b[39m\u001b[38;5;124mto numpy.load\u001b[39m\u001b[38;5;124m\"\u001b[39m \u001b[38;5;241m%\u001b[39m (err,)) \u001b[38;5;28;01mfrom\u001b[39;00m \u001b[38;5;21;01merr\u001b[39;00m\n",
      "\u001b[1;31mModuleNotFoundError\u001b[0m: No module named 'numpy._core'"
     ]
    }
   ],
   "source": [
    "import os\n",
    "import numpy as np\n",
    "\n",
    "# Path to the uploaded zip file\n",
    "# extract_folder_path = r'H:\\Magdalena\\photometry\\fp_recordings\\ACh_sensory\\sham/'\n",
    "# output_folder_path = r'H:\\Magdalena\\photometry\\fp_recordings\\ACh_sensory\\sham_zscored/'\n",
    "\n",
    "# r'H:\\Magdalena\\photometry\\fp_recordings\\ACh_sensory\\SNI/new_SNI/'\n",
    "# r'H:\\Magdalena\\photometry\\fp_recordings\\ACh_sensory\\sham/new_sham/'\n",
    "\n",
    "# extract_folder_path = r'H:\\Magdalena\\photometry\\fp_recordings\\NA_sensory\\new batch\\npy_files/'\n",
    "# output_folder_path = r'H:\\Magdalena\\photometry\\fp_recordings\\NA_sensory\\new batch\\npy_files\\new_batch_zscored/'\n",
    "\n",
    "# extract_folder_path = r'H:\\Magdalena\\photometry\\fp_recordings\\NA_sensory\\new batch\\salient/'\n",
    "# output_folder_path = r'H:\\Magdalena\\photometry\\fp_recordings\\NA_sensory\\new batch\\salient\\zscored/'\n",
    "\n",
    "extract_folder_path = r'H:\\Magdalena\\photometry\\fp_recordings\\NA_sensory\\combined old and new batched npy files\\sham/'\n",
    "output_folder_path = r'H:\\Magdalena\\photometry\\fp_recordings\\NA_sensory\\combined old and new batched npy files\\sham\\zscored/'\n",
    "\n",
    "# Function to z-score the data based on the baseline (first 5 seconds)\n",
    "def z_score_trace(trace, baseline_start, baseline_end):\n",
    "    baseline = trace[baseline_start:baseline_end]\n",
    "    baseline_mean = np.mean(baseline)\n",
    "    baseline_std = np.std(baseline)\n",
    "    return (trace - baseline_mean) / baseline_std\n",
    "\n",
    "# Function to z-score trials\n",
    "def z_score_trials(data_per_animal, trial_types, baseline_duration=5, sampling_rate=100):\n",
    "    z_scored_trials = {}\n",
    "    baseline_end = int(baseline_duration * sampling_rate)\n",
    "    \n",
    "    for animal, trials in data_per_animal.items():\n",
    "        animal_trials = {}\n",
    "        for trial in trial_types:\n",
    "            if trial in trials:\n",
    "                # Apply z-scoring to each trial\n",
    "                z_scored_data = z_score_trace(trials[trial], 0, baseline_end)\n",
    "                animal_trials[trial] = z_scored_data\n",
    "        z_scored_trials[animal] = animal_trials\n",
    "    return z_scored_trials\n",
    "\n",
    "# Process each npy file in all subfolders\n",
    "for root, dirs, files in os.walk(extract_folder_path):\n",
    "    for filename in files:\n",
    "        if filename.endswith('.npy'):\n",
    "            # Load the data\n",
    "            file_path = os.path.join(root, filename)\n",
    "            data = np.load(file_path, allow_pickle=True).item()\n",
    "            \n",
    "            # Get all trial types from the data\n",
    "            trial_types = list(data.keys())\n",
    "            \n",
    "            # Create a dictionary with the original data structure\n",
    "            input_data = {filename: data}\n",
    "            \n",
    "            # Z-score the trials\n",
    "            z_scored_data = z_score_trials(input_data, trial_types)\n",
    "            \n",
    "            # Extract the z-scored data (removing the filename key)\n",
    "            z_scored_dict = z_scored_data[filename]\n",
    "            \n",
    "            # Create the corresponding output directory structure\n",
    "            relative_path = os.path.relpath(root, extract_folder_path)\n",
    "            output_dir = os.path.join(output_folder_path, relative_path)\n",
    "            os.makedirs(output_dir, exist_ok=True)\n",
    "            \n",
    "            # Save the z-scored data\n",
    "            output_filename = f'z_scored_{filename}'\n",
    "            output_path = os.path.join(output_dir, output_filename)\n",
    "            np.save(output_path, z_scored_dict)\n",
    "\n",
    "print(\"Z-scoring completed. Files saved with 'z_scored_' prefix in the corresponding subfolders under 'grabda_zscored'.\")"
   ]
  },
  {
   "cell_type": "code",
   "execution_count": null,
   "id": "df3d84b5",
   "metadata": {},
   "outputs": [],
   "source": []
  }
 ],
 "metadata": {
  "kernelspec": {
   "display_name": "Python 3 (ipykernel)",
   "language": "python",
   "name": "python3"
  },
  "language_info": {
   "codemirror_mode": {
    "name": "ipython",
    "version": 3
   },
   "file_extension": ".py",
   "mimetype": "text/x-python",
   "name": "python",
   "nbconvert_exporter": "python",
   "pygments_lexer": "ipython3",
   "version": "3.11.5"
  }
 },
 "nbformat": 4,
 "nbformat_minor": 5
}
