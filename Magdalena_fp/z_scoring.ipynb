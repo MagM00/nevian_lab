{
 "cells": [
  {
   "cell_type": "code",
   "execution_count": null,
   "id": "19f1ebf3-cb3b-4a17-8629-72763cbbf2d1",
   "metadata": {},
   "outputs": [
    {
     "name": "stdout",
     "output_type": "stream",
     "text": [
      "Z-scoring completed. Files saved with 'z_scored_' prefix in the corresponding subfolders under 'grabda_zscored'.\n"
     ]
    }
   ],
   "source": [
    "import os\n",
    "import numpy as np\n",
    "\n",
    "# Path to the uploaded zip file\n",
    "# extract_folder_path = r'H:\\Magdalena\\photometry\\fp_recordings\\ACh_sensory\\sham/'\n",
    "# output_folder_path = r'H:\\Magdalena\\photometry\\fp_recordings\\ACh_sensory\\sham_zscored/'\n",
    "\n",
    "# r'H:\\Magdalena\\photometry\\fp_recordings\\ACh_sensory\\SNI/new_SNI/'\n",
    "# r'H:\\Magdalena\\photometry\\fp_recordings\\ACh_sensory\\sham/new_sham/'\n",
    "\n",
    "# extract_folder_path = r'H:\\Magdalena\\photometry\\fp_recordings\\NA_sensory\\new batch\\npy_files/'\n",
    "# output_folder_path = r'H:\\Magdalena\\photometry\\fp_recordings\\NA_sensory\\new batch\\npy_files\\new_batch_zscored/'\n",
    "\n",
    "# extract_folder_path = r'H:\\Magdalena\\photometry\\fp_recordings\\NA_sensory\\new batch\\salient/'\n",
    "# output_folder_path = r'H:\\Magdalena\\photometry\\fp_recordings\\NA_sensory\\new batch\\salient\\zscored/'\n",
    "\n",
    "extract_folder_path = r'H:\\Magdalena\\photometry\\fp_recordings\\NA_sensory\\combined old and new batched npy files\\sham/'\n",
    "output_folder_path = r'H:\\Magdalena\\photometry\\fp_recordings\\NA_sensory\\combined old and new batched npy files\\sham\\zscored/'\n",
    "\n",
    "# Function to z-score the data based on the baseline (first 5 seconds)\n",
    "def z_score_trace(trace, baseline_start, baseline_end):\n",
    "    baseline = trace[baseline_start:baseline_end]\n",
    "    baseline_mean = np.mean(baseline)\n",
    "    baseline_std = np.std(baseline)\n",
    "    return (trace - baseline_mean) / baseline_std\n",
    "\n",
    "# Function to z-score trials\n",
    "def z_score_trials(data_per_animal, trial_types, baseline_duration=5, sampling_rate=100):\n",
    "    z_scored_trials = {}\n",
    "    baseline_end = int(baseline_duration * sampling_rate)\n",
    "    \n",
    "    for animal, trials in data_per_animal.items():\n",
    "        animal_trials = {}\n",
    "        for trial in trial_types:\n",
    "            if trial in trials:\n",
    "                # Apply z-scoring to each trial\n",
    "                z_scored_data = z_score_trace(trials[trial], 0, baseline_end)\n",
    "                animal_trials[trial] = z_scored_data\n",
    "        z_scored_trials[animal] = animal_trials\n",
    "    return z_scored_trials\n",
    "\n",
    "# Process each npy file in all subfolders\n",
    "for root, dirs, files in os.walk(extract_folder_path):\n",
    "    for filename in files:\n",
    "        if filename.endswith('.npy'):\n",
    "            # Load the data\n",
    "            file_path = os.path.join(root, filename)\n",
    "            data = np.load(file_path, allow_pickle=True).item()\n",
    "            \n",
    "            # Get all trial types from the data\n",
    "            trial_types = list(data.keys())\n",
    "            \n",
    "            # Create a dictionary with the original data structure\n",
    "            input_data = {filename: data}\n",
    "            \n",
    "            # Z-score the trials\n",
    "            z_scored_data = z_score_trials(input_data, trial_types)\n",
    "            \n",
    "            # Extract the z-scored data (removing the filename key)\n",
    "            z_scored_dict = z_scored_data[filename]\n",
    "            \n",
    "            # Create the corresponding output directory structure\n",
    "            relative_path = os.path.relpath(root, extract_folder_path)\n",
    "            output_dir = os.path.join(output_folder_path, relative_path)\n",
    "            os.makedirs(output_dir, exist_ok=True)\n",
    "            \n",
    "            # Save the z-scored data\n",
    "            output_filename = f'z_scored_{filename}'\n",
    "            output_path = os.path.join(output_dir, output_filename)\n",
    "            np.save(output_path, z_scored_dict)\n",
    "\n",
    "print(\"Z-scoring completed. Files saved with 'z_scored_' prefix in the corresponding subfolders under 'grabda_zscored'.\")"
   ]
  },
  {
   "cell_type": "code",
   "execution_count": null,
   "id": "df3d84b5",
   "metadata": {},
   "outputs": [],
   "source": []
  }
 ],
 "metadata": {
  "kernelspec": {
   "display_name": "Python 3",
   "language": "python",
   "name": "python3"
  },
  "language_info": {
   "codemirror_mode": {
    "name": "ipython",
    "version": 3
   },
   "file_extension": ".py",
   "mimetype": "text/x-python",
   "name": "python",
   "nbconvert_exporter": "python",
   "pygments_lexer": "ipython3",
   "version": "3.12.0"
  }
 },
 "nbformat": 4,
 "nbformat_minor": 5
}
