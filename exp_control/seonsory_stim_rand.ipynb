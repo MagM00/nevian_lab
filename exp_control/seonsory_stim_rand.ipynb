{
 "cells": [
  {
   "cell_type": "code",
   "execution_count": 25,
   "metadata": {},
   "outputs": [
    {
     "name": "stdout",
     "output_type": "stream",
     "text": [
      "Stim: [\n",
      "4,4,4,5,5,5,1,1,1,0,0,0,6,6,6,2,2,2,3,3,3\n",
      "4,4,4,2,2,2,6,6,6,5,5,5,0,0,0,1,1,1,3,3,3\n",
      "5,5,5,4,4,4,1,1,1,6,6,6,3,3,3,2,2,2,0,0,0\n",
      "6,6,6,1,1,1,5,5,5,2,2,2,4,4,4,3,3,3,0,0,0\n",
      "3,3,3,6,6,6,5,5,5,1,1,1,0,0,0,4,4,4,2,2,2\n",
      "5,5,5,0,0,0,4,4,4,6,6,6,2,2,2,1,1,1,3,3,3\n",
      "]\n"
     ]
    }
   ],
   "source": [
    "import random\n",
    "\n",
    "# Set the random seed for reproducibility\n",
    "random.seed('Set6')\n",
    "\n",
    "# Create the Stim list with 42 elements in 6 groups\n",
    "stimulus_groups = [[0, 1, 2, 3, 4, 5, 6] for _ in range(6)]\n",
    "\n",
    "# Randomize the order of elements within each group\n",
    "for group in stimulus_groups:\n",
    "    random.shuffle(group)\n",
    "\n",
    "# Repeat each number three times in its place within each group\n",
    "stimulus_groups_repeated = [[num] * 3 for sublist in stimulus_groups for num in sublist]\n",
    "\n",
    "# Flatten the list to get a single list of 126 elements (42 numbers repeated 3 times)\n",
    "stimulus_list = [item for sublist in stimulus_groups_repeated for item in sublist]\n",
    "\n",
    "# Print the stimulus_list\n",
    "print(\"Stim: [\")\n",
    "for i, num in enumerate(stimulus_list):\n",
    "    print(f\"{num}\", end=',' if i % 21 != 20 and i < len(stimulus_list) - 1 else '')  # Print 21 elements per line with one comma\n",
    "    if i % 21 == 20 and i < len(stimulus_list) - 1:\n",
    "        print(\"\")  # Start a new line for the next group\n",
    "print(\"\\n]\")\n"
   ]
  },
  {
   "cell_type": "code",
   "execution_count": null,
   "metadata": {},
   "outputs": [],
   "source": []
  }
 ],
 "metadata": {
  "kernelspec": {
   "display_name": "base",
   "language": "python",
   "name": "python3"
  },
  "language_info": {
   "codemirror_mode": {
    "name": "ipython",
    "version": 3
   },
   "file_extension": ".py",
   "mimetype": "text/x-python",
   "name": "python",
   "nbconvert_exporter": "python",
   "pygments_lexer": "ipython3",
   "version": "3.11.3"
  }
 },
 "nbformat": 4,
 "nbformat_minor": 2
}
