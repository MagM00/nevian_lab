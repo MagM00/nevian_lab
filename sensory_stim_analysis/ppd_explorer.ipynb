{
 "cells": [
  {
   "cell_type": "code",
   "execution_count": 1,
   "metadata": {},
   "outputs": [],
   "source": [
    "import os\n",
    "import tkinter\n",
    "import pandas as pd\n",
    "import numpy as np\n",
    "import matplotlib.pyplot as plt\n",
    "from scipy import signal\n",
    "from data_import import import_ppd\n",
    "from scipy.signal import savgol_filter\n",
    "from scipy.stats import sem\n",
    "from scipy.ndimage import gaussian_filter1d, uniform_filter1d"
   ]
  },
  {
   "cell_type": "code",
   "execution_count": null,
   "metadata": {},
   "outputs": [],
   "source": [
    "# Define the PPD file path\n",
    "ppd_file_path = r'H:\\Jun\\1489-test-2024-10-23-163236.ppd'\n",
    "\n",
    "# Extract the filename without the extension\n",
    "filename = os.path.splitext(os.path.basename(ppd_file_path))[0]\n",
    "\n",
    "# Load the data from the CSV file\n",
    "data = import_ppd(ppd_file_path, low_pass=20, high_pass=0.001)\n",
    "\n",
    "# Convert sample index to time vector\n",
    "time = np.arange(len(data['analog_1'])) / 130\n",
    "\n",
    "# http://dx.doi.org/10.1016/j.cell.2015.07.014\n",
    "# dFF using 405 fit as baseline\n",
    "reg= np.polyfit(data['analog_2'], data['analog_1'], 1) # ch1 is 465nm, ch2 is 405nm \n",
    "fit_405=reg[0]*data['analog_2']+reg[1]\n",
    "dFF=(data['analog_1']-fit_405)/fit_405 #this gives deltaF/F\n",
    "data['fit_405']=fit_405\n",
    "data['dFF']=dFF\n",
    "\n",
    "# Create the figure and subplots\n",
    "fig, (ax1, ax2) = plt.subplots(1, 2, figsize=(12, 6))\n",
    "\n",
    "# Plot 1\n",
    "ax1.plot(time, data['analog_1'], label='analog_1')\n",
    "ax1.plot(time, data['analog_2'], label='analog_2')\n",
    "ax1.plot(time, data['fit_405'], label='fit_405')\n",
    "\n",
    "# Set plot 1 properties\n",
    "ax1.set_xlabel('Time')\n",
    "ax1.set_ylabel('Value')\n",
    "ax1.set_title('Plot 1')\n",
    "ax1.legend()\n",
    "\n",
    "# Plot 2\n",
    "ax2.plot(time, data['dFF'], label='dFF')\n",
    "\n",
    "# Set plot 2 properties\n",
    "ax2.set_xlabel('Time')\n",
    "ax2.set_ylabel('Value')\n",
    "ax2.set_title('Plot 2')\n",
    "ax2.legend()\n",
    "\n",
    "# Adjust spacing between subplots\n",
    "plt.tight_layout()\n",
    "\n",
    "# Set the figure title\n",
    "fig.suptitle(filename)\n",
    "\n",
    "# Save the figure as PNG with 300 dpi\n",
    "save_path = os.path.join(os.path.dirname(ppd_file_path), filename + '.png')\n",
    "fig.savefig(save_path, dpi=300)\n",
    "\n",
    "# Display the plots\n",
    "plt.show()\n",
    "\n",
    "\n",
    "# Index of np.diff(data['digital_1']) bigger than 0.5 or smaller than -0.5\n",
    "index = np.where((np.diff(data['digital_1']) > 0.5) | (np.diff(data['digital_1']) < -0.5))\n",
    "\n",
    "# Print the onsets and offsets\n",
    "print(\"index:\", index)\n",
    "\n",
    "dFF = dFF[index[0][0]:]\n"
   ]
  },
  {
   "cell_type": "code",
   "execution_count": null,
   "metadata": {},
   "outputs": [],
   "source": []
  },
  {
   "cell_type": "code",
   "execution_count": null,
   "metadata": {},
   "outputs": [],
   "source": []
  },
  {
   "cell_type": "code",
   "execution_count": null,
   "metadata": {},
   "outputs": [],
   "source": []
  },
  {
   "cell_type": "code",
   "execution_count": null,
   "metadata": {},
   "outputs": [],
   "source": []
  }
 ],
 "metadata": {
  "kernelspec": {
   "display_name": "base",
   "language": "python",
   "name": "python3"
  },
  "language_info": {
   "codemirror_mode": {
    "name": "ipython",
    "version": 3
   },
   "file_extension": ".py",
   "mimetype": "text/x-python",
   "name": "python",
   "nbconvert_exporter": "python",
   "pygments_lexer": "ipython3",
   "version": "3.10.12"
  }
 },
 "nbformat": 4,
 "nbformat_minor": 2
}
