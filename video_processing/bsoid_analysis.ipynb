{
 "cells": [
  {
   "cell_type": "code",
   "execution_count": 3,
   "metadata": {},
   "outputs": [],
   "source": [
    "import cv2\n",
    "import os\n",
    "\n",
    "# Extract frames from video\n",
    "def extract_frames(video_path, frames_dir):\n",
    "    vidcap = cv2.VideoCapture(video_path)\n",
    "    success, image = vidcap.read()\n",
    "    count = 0\n",
    "    while success:\n",
    "        cv2.imwrite(os.path.join(frames_dir, f\"frame{count}.jpg\"), image)  # save frame as JPEG file      \n",
    "        success, image = vidcap.read()\n",
    "        count += 1\n",
    "    vidcap.release()\n",
    "    return count  # Return the number of frames\n",
    "\n",
    "# Usage for frame extraction\n",
    "def extract_frames_main(video_path, frames_dir):\n",
    "    os.makedirs(frames_dir, exist_ok=True)\n",
    "    extract_frames(video_path, frames_dir)\n",
    "\n",
    "# Paths for frame extraction\n",
    "video_path = r'D:\\deeplabcut\\\\treated_sal\\332_sal.mp4'  # Your video file path\n",
    "frames_dir = r'D:\\deeplabcut\\\\treated_sal\\332_sal\\frames'  # Directory to save frames\n",
    "\n",
    "# Extract frames\n",
    "extract_frames_main(video_path, frames_dir)\n"
   ]
  },
  {
   "cell_type": "code",
   "execution_count": 4,
   "metadata": {},
   "outputs": [
    {
     "name": "stderr",
     "output_type": "stream",
     "text": [
      "C:\\Users\\huang\\AppData\\Local\\Temp\\ipykernel_16760\\2832639643.py:8: DtypeWarning: Columns (2,3,4,5,6,7,8,9,10,11,12,13,14,15,16,17,18,19,20,21,22,23,24,25,26,27,28,29,30,31,32,33,34,35,36,37,38) have mixed types. Specify dtype option on import or set low_memory=False.\n",
      "  df = pd.read_csv(csv_path)\n"
     ]
    },
    {
     "name": "stdout",
     "output_type": "stream",
     "text": [
      "Total frames found: 56312\n",
      "Total labels found: 56312\n",
      "The number of frames match the number of labels!\n"
     ]
    }
   ],
   "source": [
    "import pandas as pd\n",
    "import cv2\n",
    "import os\n",
    "from collections import defaultdict\n",
    "\n",
    "# Read the B-SOiD labels\n",
    "def read_bsoid_labels(csv_path):\n",
    "    df = pd.read_csv(csv_path)\n",
    "    return df['B-SOiD labels'].tolist()  # Adjust the column name if different\n",
    "\n",
    "# Group frames by B-SOiD label\n",
    "def group_frames_by_label(frames_dir, labels):\n",
    "    frames_groups = defaultdict(list)\n",
    "    for i, label in enumerate(labels):\n",
    "        frame_path = os.path.join(frames_dir, f\"frame{i}.jpg\")\n",
    "        if os.path.exists(frame_path):\n",
    "            frames_groups[label].append(frame_path)\n",
    "    return frames_groups\n",
    "\n",
    "# Create videos from frames groups\n",
    "def create_videos_from_groups(frames_groups, output_dir):\n",
    "    fourcc = cv2.VideoWriter_fourcc(*'mp4v')  # Use 'mp4v' for .mp4 files\n",
    "    for label, frames in frames_groups.items():\n",
    "        if frames:  # If there are frames for this label\n",
    "            video_path = os.path.join(output_dir, f\"332_sal_cluster{label}.mp4\")\n",
    "            # Assume that all frames have the same size\n",
    "            height, width, layers = cv2.imread(frames[0]).shape\n",
    "            video = cv2.VideoWriter(video_path, fourcc, 30, (width, height))\n",
    "            for frame_path in frames:\n",
    "                frame = cv2.imread(frame_path)\n",
    "                video.write(frame)\n",
    "            video.release()\n",
    "\n",
    "# Usage for creating videos\n",
    "def create_videos_main(frames_dir, csv_path, output_dir):\n",
    "    os.makedirs(output_dir, exist_ok=True)\n",
    "    labels = read_bsoid_labels(csv_path)\n",
    "    num_frames = len([name for name in os.listdir(frames_dir) if os.path.isfile(os.path.join(frames_dir, name))])\n",
    "    print(f\"Total frames found: {num_frames}\")\n",
    "    print(f\"Total labels found: {len(labels) - 2}\")\n",
    "\n",
    "    # Ensuring that we have a label for each frame\n",
    "    if num_frames != len(labels) - 2:\n",
    "        print(\"Warning: The number of frames does not match the number of labels!\")\n",
    "    else:\n",
    "        print(\"The number of frames match the number of labels!\")\n",
    "\n",
    "    frames_groups = group_frames_by_label(frames_dir, labels[:num_frames])\n",
    "    create_videos_from_groups(frames_groups, output_dir)\n",
    "\n",
    "# Paths for video creation\n",
    "video_path = r'D:\\deeplabcut\\\\treated_sal\\332_sal.mp4'  # Your video file path\n",
    "frames_dir = r'D:\\deeplabcut\\\\treated_sal\\332_sal\\frames'  # Directory to save frames\n",
    "csv_path = r'D:\\deeplabcut\\treated_sal\\BSOID\\Oct-27-2023labels_pose_30Hz332_salDLC_resnet50_SP_behaviorOct10shuffle1_800000.csv'  # Your CSV file path\n",
    "output_dir = r'D:\\deeplabcut\\treated_sal\\332_sal\\output_videos'  # Directory to save output videos\n",
    "\n",
    "# Create videos\n",
    "create_videos_main(frames_dir, csv_path, output_dir)\n"
   ]
  },
  {
   "cell_type": "code",
   "execution_count": null,
   "metadata": {},
   "outputs": [],
   "source": []
  },
  {
   "cell_type": "markdown",
   "metadata": {},
   "source": []
  }
 ],
 "metadata": {
  "kernelspec": {
   "display_name": "base",
   "language": "python",
   "name": "python3"
  },
  "language_info": {
   "codemirror_mode": {
    "name": "ipython",
    "version": 3
   },
   "file_extension": ".py",
   "mimetype": "text/x-python",
   "name": "python",
   "nbconvert_exporter": "python",
   "pygments_lexer": "ipython3",
   "version": "3.10.12"
  }
 },
 "nbformat": 4,
 "nbformat_minor": 2
}
