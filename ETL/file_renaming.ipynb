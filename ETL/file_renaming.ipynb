{
 "cells": [
  {
   "cell_type": "code",
   "execution_count": 4,
   "metadata": {},
   "outputs": [
    {
     "name": "stdout",
     "output_type": "stream",
     "text": [
      "Renamed files: ['H:/Magdalena/photometry\\\\videos\\\\20240124\\\\eCB\\\\C180M3-social.mp4', 'H:/Magdalena/photometry\\\\videos\\\\20240124\\\\eCB\\\\C205dupM1-baseline.mp4', 'H:/Magdalena/photometry\\\\videos\\\\20240124\\\\eCB\\\\C205dupM1-social.mp4', 'H:/Magdalena/photometry\\\\videos\\\\20240124\\\\eCB\\\\C205dupM2-baseline.mp4', 'H:/Magdalena/photometry\\\\videos\\\\20240124\\\\eCB\\\\C205dupM2-social.mp4', 'H:/Magdalena/photometry\\\\videos\\\\20240124\\\\eCB\\\\C205M1-baseline.mp4', 'H:/Magdalena/photometry\\\\videos\\\\20240124\\\\eCB\\\\C205M1-social.mp4', 'H:/Magdalena/photometry\\\\videos\\\\20240124\\\\eCB\\\\C205M2-baseline.mp4', 'H:/Magdalena/photometry\\\\videos\\\\20240124\\\\eCB\\\\C205M2-social.mp4', 'H:/Magdalena/photometry\\\\videos\\\\20240124\\\\OXT\\\\C203M1-baseline.mp4', 'H:/Magdalena/photometry\\\\videos\\\\20240124\\\\OXT\\\\C203M1-social.mp4', 'H:/Magdalena/photometry\\\\videos\\\\20240124\\\\OXT\\\\C203M2-baseline.mp4', 'H:/Magdalena/photometry\\\\videos\\\\20240124\\\\OXT\\\\C203M2-social.mp4', 'H:/Magdalena/photometry\\\\videos\\\\20240124\\\\OXT\\\\C203M3-baseline.mp4', 'H:/Magdalena/photometry\\\\videos\\\\20240124\\\\OXT\\\\C203M3-social.mp4', 'H:/Magdalena/photometry\\\\videos\\\\20240124\\\\OXT\\\\C204M1-baseline.mp4', 'H:/Magdalena/photometry\\\\videos\\\\20240124\\\\OXT\\\\C204M1-social.mp4', 'H:/Magdalena/photometry\\\\videos\\\\20240124\\\\OXT\\\\C204M2-baseline.mp4', 'H:/Magdalena/photometry\\\\videos\\\\20240124\\\\OXT\\\\C204M2-social.mp4', 'H:/Magdalena/photometry\\\\videos\\\\20240124\\\\OXT\\\\C204M3-baseline.mp4', 'H:/Magdalena/photometry\\\\videos\\\\20240124\\\\OXT\\\\C204M3-social.mp4', 'H:/Magdalena/photometry\\\\videos\\\\20240124\\\\OXT\\\\C206dupM1-baseline.mp4', 'H:/Magdalena/photometry\\\\videos\\\\20240124\\\\OXT\\\\C206dupM1-social.mp4', 'H:/Magdalena/photometry\\\\videos\\\\20240124\\\\OXT\\\\C206dupM2-baseline.mp4', 'H:/Magdalena/photometry\\\\videos\\\\20240124\\\\OXT\\\\C206dupM2-social.mp4', 'H:/Magdalena/photometry\\\\videos\\\\20240124\\\\OXT\\\\C206M1-baseline.mp4', 'H:/Magdalena/photometry\\\\videos\\\\20240124\\\\OXT\\\\C206M1-social.mp4', 'H:/Magdalena/photometry\\\\videos\\\\20240124\\\\OXT\\\\C206M2-baseline.mp4', 'H:/Magdalena/photometry\\\\videos\\\\20240124\\\\OXT\\\\C206M2-social.mp4']\n"
     ]
    }
   ],
   "source": [
    "import os\n",
    "\n",
    "# Define the directory path\n",
    "directory_path = \"H:/Magdalena/photometry\"\n",
    "\n",
    "# Function to rename files with space in their names\n",
    "def rename_files_in_directory(directory):\n",
    "    # Initialize a list to keep track of renamed files\n",
    "    renamed_files = []\n",
    "    \n",
    "    # Walk through all subdirectories and files\n",
    "    for root, dirs, files in os.walk(directory):\n",
    "        for file in files:\n",
    "            # Check if there is a space in the file name\n",
    "            if ' ' in file:\n",
    "                # Replace space with '-' in the file name\n",
    "                new_file_name = file.replace(' ', '-')\n",
    "                # Rename the file\n",
    "                os.rename(os.path.join(root, file), os.path.join(root, new_file_name))\n",
    "                # Add the renamed file to the list\n",
    "                renamed_files.append(os.path.join(root, new_file_name))\n",
    "    \n",
    "    return renamed_files\n",
    "\n",
    "# Execute the function to rename files\n",
    "renamed_files = rename_files_in_directory(directory_path)\n",
    "\n",
    "# You can print 'renamed_files' to check which files were renamed\n",
    "print(\"Renamed files:\", renamed_files)\n"
   ]
  },
  {
   "cell_type": "code",
   "execution_count": null,
   "metadata": {},
   "outputs": [],
   "source": []
  }
 ],
 "metadata": {
  "kernelspec": {
   "display_name": "base",
   "language": "python",
   "name": "python3"
  },
  "language_info": {
   "codemirror_mode": {
    "name": "ipython",
    "version": 3
   },
   "file_extension": ".py",
   "mimetype": "text/x-python",
   "name": "python",
   "nbconvert_exporter": "python",
   "pygments_lexer": "ipython3",
   "version": "3.10.12"
  }
 },
 "nbformat": 4,
 "nbformat_minor": 2
}
