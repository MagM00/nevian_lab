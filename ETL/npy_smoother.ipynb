{
 "cells": [
  {
   "cell_type": "code",
   "execution_count": 1,
   "metadata": {},
   "outputs": [
    {
     "name": "stdout",
     "output_type": "stream",
     "text": [
      "Smoothing completed. Files saved with 'smoothed_' prefix.\n"
     ]
    }
   ],
   "source": [
    "import os\n",
    "import numpy as np\n",
    "from scipy.ndimage import gaussian_filter1d\n",
    "\n",
    "# Path to the uploaded zip file\n",
    "extract_folder_path = r'H:\\Jun\\sensory_stim\\fp\\grabda_all\\control'\n",
    "\n",
    "# Function to smooth trials\n",
    "def smooth_trials(data_per_animal, trial_types, sigma=20):\n",
    "    smoothed_trials = {}\n",
    "    for animal, trials in data_per_animal.items():\n",
    "        animal_trials = {}\n",
    "        for trial in trial_types:\n",
    "            if trial in trials:\n",
    "                # Apply Gaussian smoothing to each trial\n",
    "                smoothed_data = gaussian_filter1d(trials[trial], sigma=sigma)\n",
    "                animal_trials[trial] = smoothed_data\n",
    "        smoothed_trials[animal] = animal_trials\n",
    "    return smoothed_trials\n",
    "\n",
    "# Process each npy file\n",
    "for filename in os.listdir(extract_folder_path):\n",
    "    if filename.endswith('.npy'):\n",
    "        # Load the data\n",
    "        file_path = os.path.join(extract_folder_path, filename)\n",
    "        data = np.load(file_path, allow_pickle=True).item()\n",
    "        \n",
    "        # Get all trial types from the data\n",
    "        trial_types = list(data.keys())\n",
    "        \n",
    "        # Create a dictionary with the original data structure\n",
    "        input_data = {filename: data}\n",
    "        \n",
    "        # Smooth the trials\n",
    "        smoothed_data = smooth_trials(input_data, trial_types)\n",
    "        \n",
    "        # Extract the smoothed data (removing the filename key)\n",
    "        smoothed_dict = smoothed_data[filename]\n",
    "        \n",
    "        # Save the smoothed data\n",
    "        output_filename = f'smoothed_{filename}'\n",
    "        output_path = os.path.join(extract_folder_path, output_filename)\n",
    "        np.save(output_path, smoothed_dict)\n",
    "\n",
    "print(\"Smoothing completed. Files saved with 'smoothed_' prefix.\")"
   ]
  },
  {
   "cell_type": "code",
   "execution_count": null,
   "metadata": {},
   "outputs": [],
   "source": []
  }
 ],
 "metadata": {
  "kernelspec": {
   "display_name": "base",
   "language": "python",
   "name": "python3"
  },
  "language_info": {
   "codemirror_mode": {
    "name": "ipython",
    "version": 3
   },
   "file_extension": ".py",
   "mimetype": "text/x-python",
   "name": "python",
   "nbconvert_exporter": "python",
   "pygments_lexer": "ipython3",
   "version": "3.10.12"
  }
 },
 "nbformat": 4,
 "nbformat_minor": 2
}
